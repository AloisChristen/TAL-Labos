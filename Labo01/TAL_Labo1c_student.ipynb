{
 "cells": [
  {
   "cell_type": "markdown",
   "metadata": {},
   "source": [
    "# TAL Labo 1c : mêmes opérations sur une page web en anglais"
   ]
  },
  {
   "cell_type": "markdown",
   "metadata": {},
   "source": [
    "**Objectif** \n",
    "\n",
    "Dans cette troisième partie du Labo1, vous allez refaire une partie des traitements de la partie 1b, mais cette fois-ci sur une page web, spécifiquement une page Wikipedia en anglais (suggestion : \"Switzerland\").  L'objectif est de réviser les principales commandes apprises, et de traiter le format HTML."
   ]
  },
  {
   "cell_type": "code",
   "execution_count": 1,
   "metadata": {},
   "outputs": [],
   "source": [
    "import nltk\n",
    "import os\n",
    "import re\n",
    "from urllib import request\n",
    "import matplotlib.pyplot \n",
    "%matplotlib inline\n",
    "if not os.path.exists('Texts'):\n",
    "    os.makedirs('Texts')\n",
    "if not os.path.exists('Data'):\n",
    "    os.makedirs('Data')"
   ]
  },
  {
   "cell_type": "markdown",
   "metadata": {},
   "source": [
    "S'inspirer du [chapitre 3 du livre NLTK](http://www.nltk.org/book/ch03.html) pour faire une requête et récupérer le contenu de la page indiquée dans `url2`.  Quelle est la longueur de la chaîne de caractères obtenue ?"
   ]
  },
  {
   "cell_type": "code",
   "execution_count": 2,
   "metadata": {},
   "outputs": [
    {
     "name": "stdout",
     "output_type": "stream",
     "text": [
      "La longueur de la chaine obtenue est : 860763\n"
     ]
    }
   ],
   "source": [
    "url2 = \"https://en.wikipedia.org/wiki/Switzerland\" \n",
    "response = request.urlopen(url2)\n",
    "html2 = response.read().decode('utf8')\n",
    "print('La longueur de la chaine obtenue est :', len(html2))"
   ]
  },
  {
   "cell_type": "markdown",
   "metadata": {},
   "source": [
    "Nous utilserons l'outil `BeautifulSoup` disponible sous forme de module Python pour extraire tout le texte de la page HTML.  Si le contenu de la page est stocké dans `html2`, nous extrayons le texte dans `raw2`."
   ]
  },
  {
   "cell_type": "code",
   "execution_count": 3,
   "metadata": {},
   "outputs": [],
   "source": [
    "from bs4 import BeautifulSoup"
   ]
  },
  {
   "cell_type": "code",
   "execution_count": 4,
   "metadata": {},
   "outputs": [],
   "source": [
    "raw2 = BeautifulSoup(html2).get_text()"
   ]
  },
  {
   "cell_type": "markdown",
   "metadata": {},
   "source": [
    "Réutilisez la méthode de la partie 1b pour enlever le début et la fin de la chaîne `raw2`, car ils contiennent du texte qui n'est pas pertinent pour notre analyse (\"ne parle pas de la Suisse\").  Quelle est la longueur du résultat ? Afficher aussi ses 100 premiers et 100 derniers caractères (p.ex. `raw2trimmed`)."
   ]
  },
  {
   "cell_type": "code",
   "execution_count": 5,
   "metadata": {},
   "outputs": [
    {
     "name": "stdout",
     "output_type": "stream",
     "text": [
      "Switzerland, officially the Swiss Confederation, is a landlocked country at the confluence of Wester\n",
      "asselas (called Fendant in Valais) and Pinot noir. The Merlot is the main variety produced in Ticino\n"
     ]
    },
    {
     "data": {
      "text/plain": [
       "98332"
      ]
     },
     "execution_count": 5,
     "metadata": {},
     "output_type": "execute_result"
    }
   ],
   "source": [
    "# Please write your Python code below and execute it.\n",
    "start_of_text = \"Switzerland, officially the Swiss Confederation\"\n",
    "end_of_text = \"The Merlot is the main variety produced in Ticino\"\n",
    "start_index = raw2.index(start_of_text)\n",
    "end_index = raw2.index(end_of_text) + len(end_of_text)\n",
    "raw2trimmed = raw2[start_index : end_index]\n",
    "print(raw2trimmed[0:100])\n",
    "print(raw2trimmed[-100:])\n",
    "len(raw2trimmed)"
   ]
  },
  {
   "cell_type": "markdown",
   "metadata": {},
   "source": [
    "Effectuer la segmentation en phrases, puis tokeniser chaque phrase.  Ecrivez le résultat (une phrase par ligne, espaces entre *tokens*) dans un fichier `sample_web_page.txt` et inspectez-le avec un éditeur de texte.  Observez-vous des imperfections ?"
   ]
  },
  {
   "cell_type": "code",
   "execution_count": 6,
   "metadata": {},
   "outputs": [],
   "source": [
    "filename = \"./Texts/sample_web_page.txt\"\n",
    "# Pour un fichier local : chemin relatif par rapport au notebook\n",
    "# Pour Google Colab, p.ex.: /content/gdrive/My Drive/sample_web_page.txt\n",
    "if os.path.exists(filename): \n",
    "    os.remove(filename)\n",
    "fd = open(filename, 'a', encoding='utf8')\n",
    "# Please write your Python code below and execute it.\n",
    "raw2trimmed = raw2trimmed.replace('\\r\\n', ' ').replace('\"', '')\n",
    "raw2trimmed = re.sub(\"\\[.*\\]\", '', raw2trimmed)\n",
    "book2sentences = nltk.sent_tokenize(raw2trimmed)\n",
    "tokenizedSentences= [nltk.word_tokenize(sentence) for sentence in book2sentences]\n",
    "for line in tokenizedSentences:\n",
    "    fd.write(\" \".join(line))\n",
    "    fd.write('\\n')\n",
    "fd.close()"
   ]
  },
  {
   "cell_type": "markdown",
   "metadata": {},
   "source": [
    "Effectuer maintenant la tokenisation de cette page **sans** faire de segmentation en phrases.  Stockez le résultat dans une variable (p.ex. `words2`) sans écrire de fichier.  Combien de tokens possède ce texte ?"
   ]
  },
  {
   "cell_type": "code",
   "execution_count": 7,
   "metadata": {},
   "outputs": [
    {
     "data": {
      "text/plain": [
       "11780"
      ]
     },
     "execution_count": 7,
     "metadata": {},
     "output_type": "execute_result"
    }
   ],
   "source": [
    "# Please write your Python code below and execute it.\n",
    "words2 = nltk.word_tokenize(raw2trimmed)\n",
    "len(words2)"
   ]
  },
  {
   "cell_type": "markdown",
   "metadata": {},
   "source": [
    "Créez un objet de type nltk.Text à partir de la liste de *tokens* `words2`.  Appliquez-lui à titre d'exemple les méthodes `concordance`, `similar` et `collocations`. "
   ]
  },
  {
   "cell_type": "code",
   "execution_count": 8,
   "metadata": {},
   "outputs": [
    {
     "name": "stdout",
     "output_type": "stream",
     "text": [
      "Displaying 25 of 33 matches:\n",
      "4 Politics 4.1 Direct democracy 4.2 Cantons 4.2.1 Municipalities 4.3 Foreign re\n",
      "d territory , one of the Waldstätte cantons which formed the nucleus of the Old\n",
      "by nobles and patricians of various cantons , facilitated management of common \n",
      "lier . By 1353 , the three original cantons had joined with the cantons of Glar\n",
      "riginal cantons had joined with the cantons of Glarus and Zug and the Lucerne ,\n",
      "ict between Catholic and Protestant cantons persisted , erupting in further vio\n",
      "nd introduced a Confederation of 19 cantons . In 1815 the Congress of Vienna fu\n",
      "in Bern ( 1857 ) . One of the three cantons presiding over the Tagsatzung ( for\n",
      "roke out in 1847 when some Catholic cantons tried to set up a separate alliance\n",
      "rvative current , realised that the cantons would profit more if their economic\n",
      "central authority while leaving the cantons the right to self-government on loc\n",
      "those who favoured the power of the cantons ( the Sonderbund Kantone ) , the na\n",
      "omen the right to vote . Some Swiss cantons approved this in 1959 , while at th\n",
      "emocracy , still in practice in two cantons . Direct democracy and federalism a\n",
      "ccept or reject the law . Any eight cantons can also call a constitutional refe\n",
      "oposed amendment within 18 months . Cantons Main article : Cantons of Switzerla\n",
      " 18 months . Cantons Main article : Cantons of Switzerland The Swiss Confederat\n",
      " Swiss Confederation consists of 26 cantons : Canton ID Capital Canton ID Capit\n",
      "4 Neuchâtel Zürich 1 Zürich * These cantons are known as half-cantons . The can\n",
      "ons are known as half-cantons . The cantons are federated states , have a perma\n",
      "r the Federal Constitution , all 26 cantons are equal in status , except that 6\n",
      " differences between the individual cantons , particularly in terms of populati\n",
      ": Municipalities of Switzerland The cantons comprise a total of 2,222 municipal\n",
      "t at the capitals of the directoral cantons Fribourg , Berne , Basel , Zürich ,\n",
      "ancement of the Confederation to 22 cantons by the admission of the cantons of \n",
      "north their geographical\n",
      "Main article; United Nations; Main articles; European Union; St.\n",
      "Gallen; Swiss Confederacy; Federal Council; Old Swiss; See also;\n",
      "Federal Assembly; Helvetic Republic; bilateral agreements; Federal\n",
      "City; Augusta Raurica; Grand Slam; ice hockey; Red Cross; Standard\n",
      "German; Lake Geneva; Air Force\n"
     ]
    }
   ],
   "source": [
    "# Please write your Python code below and execute it.\n",
    "text2 = nltk.Text(words2)\n",
    "text2.concordance('cantons')\n",
    "text2.similar('land')\n",
    "text2.collocations()"
   ]
  },
  {
   "cell_type": "markdown",
   "metadata": {},
   "source": [
    "Déterminez le vocabulaire de cette page (la liste des _types_) en convertissant la liste des _tokens_ en un `set`.  \n",
    "* Veuillez calculer ainsi le vocabulaire de votre texte.\n",
    "* Combien de mots différents a-t-il ?  (En incluant les ponctuations et tout autre symbole.) \n",
    "* Quels sont les mots qui ont plus de 15 lettres ?  (Ou une autre taille qui vous semble intéressante.)"
   ]
  },
  {
   "cell_type": "code",
   "execution_count": 9,
   "metadata": {},
   "outputs": [
    {
     "name": "stdout",
     "output_type": "stream",
     "text": [
      "3153\n"
     ]
    },
    {
     "data": {
      "text/plain": [
       "['Switzerland–European',\n",
       " 'Telecommunication',\n",
       " 'commander-in-chief',\n",
       " 'Basel-Landschaft',\n",
       " 'regions.Agricultural',\n",
       " 'autobahn/autoroute',\n",
       " 'instruments/watches',\n",
       " 'energy-producing',\n",
       " 'Romansh-speaking',\n",
       " 'electricity-generating',\n",
       " 'machines/electronics',\n",
       " 'Sonderbundskrieg',\n",
       " 'authoritarianism',\n",
       " 'General-in-Chief',\n",
       " 'Gallen-Altenrhein',\n",
       " 'SwitzerlandSwiss',\n",
       " 'Hydroelectricity',\n",
       " 'hydroelectricity',\n",
       " 'Donau-Iller-Rhine-Limes']"
      ]
     },
     "execution_count": 9,
     "metadata": {},
     "output_type": "execute_result"
    }
   ],
   "source": [
    "# Please write your Python code below and execute it.\n",
    "vocabulary = set(words2)\n",
    "print(len(vocabulary))\n",
    "filtered = filter(lambda x : len(x) > 15, vocabulary)\n",
    "list(filtered)"
   ]
  },
  {
   "cell_type": "markdown",
   "metadata": {},
   "source": [
    "Construisez un objet `FreqDist` avec les mots de cette page, en convertissant en minuscules tous les mots contenant seulement des lettres (utilisez la méthode `.isalpha()` de Python).  Quels sont les 30 mots les plus fréquents ?"
   ]
  },
  {
   "cell_type": "code",
   "execution_count": 10,
   "metadata": {},
   "outputs": [
    {
     "data": {
      "text/plain": [
       "[('the', 910),\n",
       " (',', 586),\n",
       " ('of', 463),\n",
       " ('.', 409),\n",
       " ('and', 349),\n",
       " ('in', 329),\n",
       " ('(', 186),\n",
       " (')', 183),\n",
       " ('switzerland', 178),\n",
       " ('to', 148),\n",
       " ('a', 147),\n",
       " ('swiss', 143),\n",
       " ('is', 105),\n",
       " ('are', 77),\n",
       " ('federal', 75),\n",
       " ('%', 75),\n",
       " ('as', 74),\n",
       " ('for', 68),\n",
       " ('was', 58),\n",
       " ('from', 56),\n",
       " ('by', 55),\n",
       " (':', 53),\n",
       " ('with', 51),\n",
       " (\"'s\", 49),\n",
       " ('has', 44),\n",
       " ('at', 41),\n",
       " ('an', 40),\n",
       " ('world', 40),\n",
       " ('on', 39),\n",
       " ('it', 36)]"
      ]
     },
     "execution_count": 10,
     "metadata": {},
     "output_type": "execute_result"
    }
   ],
   "source": [
    "# Please write your Python code below and execute it.\n",
    "wordsMin = list(map(lambda x : x.lower() if x.isalpha() else x, words2))\n",
    "freqdist2 = nltk.FreqDist(wordsMin)\n",
    "freqdist2.most_common(30)"
   ]
  },
  {
   "cell_type": "markdown",
   "metadata": {},
   "source": [
    "Affichez le graphique cumulatif du nombre d'occurrences des 70 mots les plus fréquents de votre texte."
   ]
  },
  {
   "cell_type": "code",
   "execution_count": 11,
   "metadata": {},
   "outputs": [
    {
     "data": {
      "image/png": "[encoded data removed]",
      "text/plain": [
       "<Figure size 432x288 with 1 Axes>"
      ]
     },
     "metadata": {
      "needs_background": "light"
     },
     "output_type": "display_data"
    },
    {
     "data": {
      "text/plain": [
       "<AxesSubplot:xlabel='Samples', ylabel='Cumulative Counts'>"
      ]
     },
     "execution_count": 11,
     "metadata": {},
     "output_type": "execute_result"
    }
   ],
   "source": [
    "# Please write your Python code below and execute it.\n",
    "freqdist2.plot(70, cumulative=True)"
   ]
  },
  {
   "cell_type": "markdown",
   "metadata": {},
   "source": [
    "Construisez une liste avec la longueur de chaque token du texte, créez un nouvel objet `FreqDist` à partir de cette liste, et affichez la distribution (non-cumulative) des nombres d'occurrences pour chaque longueur.  Qu'observez-vous ?"
   ]
  },
  {
   "cell_type": "code",
   "execution_count": 12,
   "metadata": {},
   "outputs": [
    {
     "data": {
      "image/png": "[encoded data removed]",
      "text/plain": [
       "<Figure size 432x288 with 1 Axes>"
      ]
     },
     "metadata": {
      "needs_background": "light"
     },
     "output_type": "display_data"
    },
    {
     "data": {
      "text/plain": [
       "<AxesSubplot:xlabel='Samples', ylabel='Counts'>"
      ]
     },
     "execution_count": 12,
     "metadata": {},
     "output_type": "execute_result"
    }
   ],
   "source": [
    "# Please write your Python code below and execute it.\n",
    "lengthList = map(len,words2)\n",
    "freqdistLen = nltk.FreqDist(lengthList)\n",
    "freqdistLen.plot(100)"
   ]
  },
  {
   "cell_type": "markdown",
   "metadata": {},
   "source": [
    "## Fin de la partie 1c du Labo1\n",
    "Veuillez nettoyer autant que possible ce _notebook_, exécutez une dernière fois toutes les cellules pour obtenir les résultats demandés, et enregistrez le _notebook_.  Puis ajoutez-le dans une archive _zip_ avec les _notebook_ des parties 1b et 1d, et soumettez l'archive individuellement sur Cyberlearn (_Laboratoire 1_). "
   ]
  }
 ],
 "metadata": {
  "celltoolbar": "Format de la Cellule Texte Brut",
  "kernelspec": {
   "display_name": "Python 3 (ipykernel)",
   "language": "python",
   "name": "python3"
  },
  "language_info": {
   "codemirror_mode": {
    "name": "ipython",
    "version": 3
   },
   "file_extension": ".py",
   "mimetype": "text/x-python",
   "name": "python",
   "nbconvert_exporter": "python",
   "pygments_lexer": "ipython3",
   "version": "3.7.11"
  }
 },
 "nbformat": 4,
 "nbformat_minor": 2
}
