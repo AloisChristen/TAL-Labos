{
 "cells": [
  {
   "cell_type": "markdown",
   "metadata": {
    "id": "8HKiQmVpon_7"
   },
   "source": [
    "<img src=\"https://heig-vd.ch/docs/default-source/doc-global-newsletter/2020-slim.svg\" alt=\"HEIG-VD Logo\" width=\"100\"/>\n",
    "\n",
    "# Cours TAL - Laboratoire 5\n",
    "# Trois méthodes de désambiguïsation lexicale\n",
    "\n",
    "**Objectif**\n",
    "\n",
    "L'objectif de ce laboratoire est d'implémenter et de comparer plusieurs méthodes de désambiguïsation lexicale (en anglais, *Word Sense Disambiguation* ou WSD).  Vous utiliserez un corpus avec plusieurs milliers de phrases, chaque phrase contenant une occurrence du mot anglais *interest* annotée avec le sens que ce mot possède dans la phrase respective.  Les trois méthodes sont les suivantes (elles seront détaillées par la suite) :\n",
    "\n",
    "1. Algorithme de Lesk simplifié.\n",
    "1. Utilisation de word2vec.\n",
    "1. Classification supervisée (cours 9) utilisant des traits lexicaux :\n",
    "  1. les mots en position -1, -2, ..., et +1, +2, ..., par rapport à *interest* ;\n",
    "  1. apparition de mots indicateurs dans le voisinage de *interest*.\n",
    "\n",
    "Les méthodes (1) et (2) n'utilisent pas l'apprentissage automatique.  Elles fonctionnent selon le même principe : comparer le contexte d'une occurrence de *interest* avec chacune des définitions des sens (*synsets*) et choisir la définition la plus proche du contexte.  L’algorithme de Lesk définit la proximité comme le nombre de mots en commun, alors que word2vec la calcule comme la similarité de vecteurs.  La méthode (3) vise à classifier les occurrences de *interest*, les sens étant les classes, en utilisant comme traits les mots du contexte (ce sera de l'apprentissage supervisé)."
   ]
  },
  {
   "cell_type": "markdown",
   "metadata": {
    "id": "Z22UCahWooAB"
   },
   "source": [
    "## 0. Analyse des données\n",
    "\n",
    "Téléchargez le corpus *interest* depuis le [site du Prof. Ted Pedersen](http://www.d.umn.edu/~tpederse/data.html).  Il se trouve en bas de cette page.  Téléchargez l'archive ZIP marquée *original format without POS tags* et extrayez le fichier `interest-original.txt`.  Téléchargez également le fichier `README.int.txt` indiqué à la ligne au-dessus. Veuillez brièvement répondre aux questions suivantes :\n",
    "\n",
    "1. Quelles sont les URL du fichier ZIP et celle du fichier `README.int.txt` ?\n",
    "2. Quel est le format du fichier `interest-original.txt` et comment sont annotés les sens de *interest* ?  Est-ce qu'om considère le pluriel *interests* aussi ?  Que se passe-t-il si une phrase contient plusieurs occurrences du mot ?"
   ]
  },
  {
   "cell_type": "code",
   "execution_count": null,
   "metadata": {
    "id": "DL1UOj6QooAD"
   },
   "outputs": [],
   "source": [
    "# 1. Le fichier zip: https://www.d.umn.edu/~tpederse/Data/interest-original.nopos.tar.gz et le fichier README: https://www.d.umn.edu/~tpederse/Data/README.int.txt\n",
    "# 2. Fichier texte avec des phrases séparée par des $$ et les mots interest/s avec un underscore et un id pour désigner leur sens. Le pluriel est considéré. Une seule occurence est traitée par phrase. Si la phrase comporte plusieurs occurence, la phrase sera copié et la prochaine occurence sera traîtée. Les occurences non-traitée sont précédées d'une *"
   ]
  },
  {
   "cell_type": "markdown",
   "metadata": {
    "id": "5u0n92wXooAE"
   },
   "source": [
    "3. D'après le fichier `README.int.txt`, quelles sont les définitions des six sens de *interest* annotés dans les données et quelles sont leurs fréquences ? Vous pouvez copier/coller l'extrait de `README`ici."
   ]
  },
  {
   "cell_type": "code",
   "execution_count": null,
   "metadata": {
    "id": "eJUMn6ZTooAG"
   },
   "outputs": [],
   "source": [
    "# Sense 1 =  361 occurrences (15%) - readiness to give attention\n",
    "# Sense 2 =   11 occurrences (01%) - quality of causing attention to be given to\n",
    "# Sense 3 =   66 occurrences (03%) - activity, etc. that one gives attention to\n",
    "# Sense 4 =  178 occurrences (08%) - advantage, advancement or favor\n",
    "# Sense 5 =  500 occurrences (21%) - a share in a company or business\n",
    "# Sense 6 = 1252 occurrences (53%) - money paid for the use of money"
   ]
  },
  {
   "cell_type": "markdown",
   "metadata": {
    "id": "9H7I1QUrooAH"
   },
   "source": [
    "4. De quel dictionnaire viennent les sens précédents ? Où peut-on le consulter en ligne ?  Veuillez aligner les définitions du dictionnaire avec les six sens annotés en écrivant par exemple `Sense 3 = \"an activity that you enjoy doing or a subject that you enjoy studying\"`."
   ]
  },
  {
   "cell_type": "code",
   "execution_count": null,
   "metadata": {
    "id": "zB_CgIJcooAK"
   },
   "outputs": [],
   "source": [
    "# Le dictionnaire est LDOCE (Longman Dictionary of Contemporary English)\n",
    "# Sense 1 = \"something you want to know or learn more about\"\n",
    "# Sense 2 = \"a quality or feature of something that attracts your attention or makes you want to know more about it\"\n",
    "# Sense 3 = \"an activity that you enjoy doing or a subject that you enjoy studying\"\n",
    "# Sense 4 = \"the things that bring advantages to someone or something\"\n",
    "# Sense 5 = \"if you have an interest in a particular company or industry, you own shares in it\"\n",
    "# Sense 6 = \"the extra money that you must pay back when you borrow money\""
   ]
  },
  {
   "cell_type": "markdown",
   "metadata": {
    "id": "nMv7ZS7DooAL"
   },
   "source": [
    "5. En consultant [WordNet en ligne](http://wordnetweb.princeton.edu/perl/webwn), trouvez les définitions des synsets  pour le **nom commun** *interest*.  Combien de synsets y a-t-il ?  Veuillez indiquer comme avant la **définition** de chaque synset pour chacun des six sens ci-dessus (au besoin, fusionner ou ignorer des synsets)."
   ]
  },
  {
   "cell_type": "code",
   "execution_count": null,
   "metadata": {
    "id": "QKb4fM-aooAM"
   },
   "outputs": [],
   "source": [
    "# Veuillez répondre ici (en commentaire) à la question.\n",
    "# Il y a 7 synsets.\n",
    "# Sense 1 = \"a sense of concern with and curiosity about someone or something\"\n",
    "# Sense 2 = \"the power of attracting or holding one's attention (because it is unusual or exciting etc.)\"\n",
    "# Sense 3 = \"a diversion that occupies one's time and thoughts (usually pleasantly)\"\n",
    "# Sense 4 = \"a reason for wanting something done\"\n",
    "# Sense 5 = \"a right or legal share of something; a financial involvement with something\"\n",
    "# Sense 6 = \"a fixed charge for borrowing money; usually a percentage of the amount borrowed\""
   ]
  },
  {
   "cell_type": "markdown",
   "metadata": {
    "id": "34J5iztwooAO"
   },
   "source": [
    "6. Définissez (manuellement, ou avec quelques lignes de code) une liste nommée `senses1` avec les mots des définitions du README, en supprimant les stopwords (p.ex. les mots < 4 lettres).  Affichez la liste."
   ]
  },
  {
   "cell_type": "code",
   "execution_count": null,
   "metadata": {
    "id": "oQ2M9LgCooAO"
   },
   "outputs": [],
   "source": [
    "import nltk"
   ]
  },
  {
   "cell_type": "code",
   "execution_count": null,
   "metadata": {
    "id": "OtfMyPSlooAP"
   },
   "outputs": [],
   "source": [
    "from random import randrange"
   ]
  },
  {
   "cell_type": "code",
   "execution_count": null,
   "metadata": {
    "id": "Up6mPLJfrUIC"
   },
   "outputs": [],
   "source": [
    "readme_definitions = [\n",
    "\"readiness to give attention\",\n",
    "\"quality of causing attention to be given to\",\n",
    "\"activity, etc. that one gives attention to\",\n",
    "\"advantage, advancement or favor\",\n",
    "\"a share in a company or business\",\n",
    "\"money paid for the use of money\"\n",
    "]\n",
    "dictionnary_definitions = [\n",
    "\"if you have an interest in something or someone, you want to know or learn more about them\",\n",
    "\"an activity that you enjoy doing or a subject that you enjoy studying\",\n",
    "\"a quality or feature of something that attracts your attention or makes you want to know more about it\",\n",
    "\"the extra money that you must pay back when you borrow money\",\n",
    "\"the things that bring advantages to someone or something\",\n",
    "\"if you have an interest in a particular company or industry, you own shares in it\"\n",
    "]\n",
    "synSet_definitions = []"
   ]
  },
  {
   "cell_type": "code",
   "execution_count": null,
   "metadata": {
    "colab": {
     "base_uri": "https://localhost:8080/"
    },
    "id": "TjaEmWUOooAP",
    "outputId": "883cc9e3-18a8-48f7-ac4b-723d5495b970"
   },
   "outputs": [
    {
     "name": "stdout",
     "output_type": "stream",
     "text": [
      "[['readiness', 'give', 'attention'], ['quality', 'causing', 'attention', 'given'], ['activity,', 'etc.', 'that', 'gives', 'attention'], ['advantage,', 'advancement', 'favor'], ['share', 'company', 'business'], ['money', 'paid', 'money']]\n"
     ]
    }
   ],
   "source": [
    "# Veuillez répondre ici à la question et créer la variable 'senses1' (liste de 6 listes de chaînes).\n",
    "\n",
    "senses1 = [[word for word in definition.split() if len(word) > 3] for definition in readme_definitions]\n",
    "\n",
    "print(senses1)"
   ]
  },
  {
   "cell_type": "markdown",
   "metadata": {
    "id": "OpM5G0LFooAR"
   },
   "source": [
    "7. En combinant les définitions obtenues aux points (3) et (4) ci-dessus, construisez une liste nommée `senses2` avec pour chacun des sens de *interest* une liste de **mots-clés** correspondants.  Vous pouvez concaténer les définitions, puis écrire des instructions en Python pour extraire les mots (uniques).  Respectez l'ordre des sens données par `README`, et à la fin affichez `senses2`."
   ]
  },
  {
   "cell_type": "code",
   "execution_count": null,
   "metadata": {
    "id": "RjOWuFBMooAR"
   },
   "outputs": [],
   "source": [
    "# Veuillez répondre ici à la question et créer la variable 'senses2' (liste de 6 listes de chaînes).\n",
    "senses2 = np.array([\"readiness to give attention something you want to know or learn more about\",\n",
    "           \"quality of causing attention to be given to a quality or feature of something that attracts your attention or makes you want to know more about it\",\n",
    "           \"activity, etc. that one gives attention to an activity that you enjoy doing or a subject that you enjoy studying\",\n",
    "           \"advantage, advancement or favor the things that bring advantages to someone or something\",\n",
    "           \"a share in a company or business if you have an interest in a particular company or industry, you own shares in it\",\n",
    "           \"money paid for the use of money the extra money that you must pay back when you borrow money\"])\n",
    "\n",
    "senses2 = [[word for word in np.unique(sentence.split()) if len(word) > 4] for sentence in senses2]\n",
    "\n",
    "\n",
    "print(senses2)"
   ]
  },
  {
   "cell_type": "markdown",
   "metadata": {
    "id": "Z_FCTUJcooAS"
   },
   "source": [
    "8. Chargez les données depuis `interest-original.txt` dans une liste appelée `sentences` qui contient pour chaque phrase la liste des mots (sans les séparateurs *$$* et *===...*).  Les phrases sont-elles déjà tokenisées ?  Sinon, faites-le.  À ce stade, ne modifiez pas encore les occurrences annotées *interest(s)\\_X*.  Comptez le nombre total de phrases et affichez-en trois au hasard."
   ]
  },
  {
   "cell_type": "code",
   "execution_count": null,
   "metadata": {
    "colab": {
     "base_uri": "https://localhost:8080/"
    },
    "id": "A2C2hkw3ooAT",
    "outputId": "3ad9314d-383c-4a61-dda8-a8b6a2da2122"
   },
   "outputs": [
    {
     "name": "stdout",
     "output_type": "stream",
     "text": [
      "Il y a 2368 phrases.\n",
      "En voici 3 au hasard :\n",
      "[['investor', 'interest_1', 'in', 'stock', 'funds', 'has', 'nt', 'stalled', 'at', 'all', 'mr', 'hines', 'maintains'], ['it', 'is', 'in', 'the', 'western', 'interest_4', 'to', 'see', 'mr', 'gorbachev', 'succeed'], ['revco', 'insists', 'that', 'the', 'proposal', 'is', 'simply', 'an', 'expression', 'of', 'interest_1', 'because', 'under', 'chapter', '11', 'revco', 'has', 'exclusivity', 'rights', 'until', 'feb', '28']]\n"
     ]
    }
   ],
   "source": [
    "# Veuillez répondre ici à la question.\n",
    "import re\n",
    "sentences = []\n",
    "with open(\"interest-original.txt\", 'r') as f:\n",
    "  current_line = \"\"\n",
    "  for line in f.readlines():\n",
    "      if line == \"$$\\n\":\n",
    "        sentences.append(re.sub(\"  \", \" \", current_line).split())\n",
    "        current_line = \"\"\n",
    "      else:\n",
    "        current_line += re.sub(r\"[^\\w ]*\", \"\", line)\n",
    "\n",
    "\n",
    "print(\"Il y a {} phrases.\\nEn voici 3 au hasard :\".format(len(sentences)))\n",
    "print(sentences[151:154])"
   ]
  },
  {
   "cell_type": "markdown",
   "metadata": {
    "id": "vlpMecE2ooAT"
   },
   "source": [
    "## 1. Algorithme de Lesk simplifié\n",
    "\n",
    "Définissez une fonction `wsd_lesk(senses, sentence)` qui prend deux arguments : une liste de listes de mots-clés (comme `senses1` et `senses2` ci-dessus) et une phrase avec une occurrence annotée de *interest* ou *interests*, et qui retourne l'index du sens le plus probable (entre 1 et 6) selon l'algorithme de Lesk.  Cet algorithme choisit le sens qui a le maximum de mots en commun avec le contexte de *interest*.  Vous pouvez choisir vous-mêmes la taille de ce voisinage (`window_size`).  En cas d'égalité entre deux sens, tirer la réponse au sort."
   ]
  },
  {
   "cell_type": "code",
   "execution_count": null,
   "metadata": {
    "id": "PpkYGvRDooAU"
   },
   "outputs": [],
   "source": [
    "# Veuillez répondre ici à la question.\n"
   ]
  },
  {
   "cell_type": "markdown",
   "metadata": {
    "id": "uGAXYtwNooAU"
   },
   "source": [
    "Définissez maintenant une fonction `evaluate_wsd(fct_name, senses, sentences)` qui prend en paramètre le nom de la méthode de similarité (pour commencer : `wsd_lesk`) ainsi que la liste des mots-clés par sens, et la liste de phrases, et qui retourne le score de la méthode de similarité.  Ce score sera tout simplement le pourcentage de réponses correctes (sens trouvé identique au sens annoté)."
   ]
  },
  {
   "cell_type": "code",
   "execution_count": null,
   "metadata": {
    "id": "I6ic_w6TooAV"
   },
   "outputs": [],
   "source": [
    "# Veuillez répondre ici à la question.\n"
   ]
  },
  {
   "cell_type": "markdown",
   "metadata": {
    "id": "Wy7QEfwbooAV"
   },
   "source": [
    "En fixant au mieux la taille de la fenêtre autour de *interest*, quel est le meilleur score de la méthode de Lesk simplifiée ?  Quelle liste de sens conduit à de meilleurs scores, `senses1` ou `senses2` ?"
   ]
  },
  {
   "cell_type": "code",
   "execution_count": null,
   "metadata": {
    "id": "ieDU_4zcooAV"
   },
   "outputs": [],
   "source": [
    "# Veuillez répondre ici à la question.\n"
   ]
  },
  {
   "cell_type": "markdown",
   "metadata": {
    "id": "QhsM6SyaooAW"
   },
   "source": [
    "## 2. Utilisation de word2vec pour la similarité contexte vs. synset\n",
    "\n",
    "En réutilisant une partie du code de `wsd_lesk`, définissez maintenant une fonction `wsd_word2vec(senses, sentence)` qui choisit le sens en utilisant la similarité **word2vec**.  On vous encourage à chercher dans la [documentation des KeyedVectors](https://radimrehurek.com/gensim/models/keyedvectors.html) comment calculer directement la similarité entre deux listes de mots.\n",
    "\n",
    "Comme `wsd_lesk`, la nouvelle fonction `wsd_word2vec` prend en argument une liste de listes de mots-clés par sens (comme `senses1` et `senses2` ci-dessus), et une phrase avec une occurrence annotée de *interest* ou *interests*.  La fonction retourne le numéro du sens le plus probable selon la similarité word2vec entre les mots du sens et ceux du voisinage de *interest*. Vous pouvez choisir la taille de ce voisinage (`window_size`).  En cas d'égalité, tirer le sens au sort."
   ]
  },
  {
   "cell_type": "code",
   "execution_count": null,
   "metadata": {
    "id": "fl22sRhSooAW"
   },
   "outputs": [],
   "source": [
    "import gensim\n",
    "from gensim.models import KeyedVectors\n",
    "path_to_model = \"../../../gensim-data/word2vec-google-news-300/word2vec-google-news-300.gz\" # à adapter\n",
    "wv_model = gensim.models.KeyedVectors.load_word2vec_format(path_to_model, binary=True)  # C bin format"
   ]
  },
  {
   "cell_type": "code",
   "execution_count": null,
   "metadata": {
    "id": "Lu12bNhyooAX"
   },
   "outputs": [],
   "source": [
    "# Veuillez répondre ici à la question.\n"
   ]
  },
  {
   "cell_type": "markdown",
   "metadata": {
    "id": "xeAxZGHSooAX"
   },
   "source": [
    "Appliquez maintenant la même méthode `evaluate_wsd` avec la fonction `wsd_word2vec` (en cherchant une bonne valeur de la taille de la fenêtre) et affichez le score de la similarité word2vec.  Comment se compare-t-il avec les précédents ?"
   ]
  },
  {
   "cell_type": "code",
   "execution_count": null,
   "metadata": {
    "id": "7oZwKacMooAY"
   },
   "outputs": [],
   "source": [
    "# Veuillez répondre ici à la question.\n"
   ]
  },
  {
   "cell_type": "markdown",
   "metadata": {
    "id": "RKKg_JOnooAY"
   },
   "source": [
    "## 3. Classification supervisée avec des traits lexicaux\n",
    "Dans cette partie du labo, vous entraînerez des classifieurs pour prédire le sens d'une occurrence dans une phrase.  Le principal défi sera de transformer chaque phrase en un ensemble de traits, pour créer les données en vue des expériences de classification.\n",
    "\n",
    "Vous utiliserez le classifieur `NaiveBayesClassifier` fourni par NLTK.  Le mode d'emploi se trouve dans le [Chapitre 6, sections 1.1-1.3](https://www.nltk.org/book/ch06.html) du livre NLTK.  Consultez-le attentivement pour trouver comment formater les données.  (Il existe de nombreux autres classifieurs supervisés, par exemple dans la boîte à outils `scikit-learn`.)\n",
    "\n",
    "De plus, vous devrez séparer les 2368 occurrences en ensembles d'entraînement et de test."
   ]
  },
  {
   "cell_type": "markdown",
   "metadata": {
    "id": "nbCoIis5ooAY"
   },
   "source": [
    "### 3.A. Traits lexicaux positionnels\n",
    "\n",
    "Dans cette première représentation des traits, vous les coderez comme `mot-2`, `mot-1`, `mot+1`, `mot+2`, etc. (fenêtre de taille `2*window_size` autour de *interest*) et vous leur donnerez les valeurs des mots observés aux emplacements respectifs, ou alors `NONE` si la fenêtre dépasse la limite de la phrase.  Vous ajouterez un trait qui est le mot *interest* lui-même, qui peut être au singulier ou au pluriel.  Pour chaque occurrence de *interest*, vous devez donc générer une représentation formelle avec un dictionnaire Python suivi de l'index du sens :\n",
    "```\n",
    "[{'word-1': 'in', 'word+1': 'rates', 'word-2': 'declines', 'word+2': 'NONE', 'word0': 'interest'}, 6]\n",
    "```\n",
    "L'index du sens servira à l'entraînement, puis elle sera cachée à l'évaluation, et la prédiction du système sera comparée à elle pour dire si elle est correcte ou non.  Vous regrouperez toutes ces entrées dans une liste totale de 2368 éléments appelée `items_with_features_A`.\n",
    "\n",
    "En partant de la liste des phrases appelée `sentences`(préparée plus haut), veuillez générer ici cette liste, en vous aidant si nécessaire du livre NLTK."
   ]
  },
  {
   "cell_type": "code",
   "execution_count": 30,
   "metadata": {
    "colab": {
     "base_uri": "https://localhost:8080/"
    },
    "id": "HH0M-VtBooAY",
    "outputId": "bf3704cf-9a60-45ee-89d7-f19c7529a537"
   },
   "outputs": [
    {
     "name": "stdout",
     "output_type": "stream",
     "text": [
      "2368\n",
      "[[{'word-2': 'NONE', 'word-1': 'investor', 'word0': 'interest', 'word+1': 'in', 'word+2': 'stock'}, '1'], [{'word-2': 'the', 'word-1': 'western', 'word0': 'interest', 'word+1': 'to', 'word+2': 'see'}, '4'], [{'word-2': 'expression', 'word-1': 'of', 'word0': 'interest', 'word+1': 'because', 'word+2': 'under'}, '1']]\n"
     ]
    }
   ],
   "source": [
    "# Veuillez répondre ici à la question.\n",
    "def get_index_of_regexp_match(regexp, words):\n",
    "  for index, value in enumerate(words):\n",
    "    if re.match(regexp, value):\n",
    "      return index\n",
    "  return -1\n",
    "\n",
    "def create_dict_around(sentence, index):\n",
    "  end = len(sentence)\n",
    "  [word,sense] = sentence[index].split(\"_\")\n",
    "  neighbours = {}\n",
    "  neighbours['word-2'] = sentence[index - 2] if index >= 2  else 'NONE'\n",
    "  neighbours['word-1'] = sentence[index - 1] if index >= 1  else 'NONE'\n",
    "  neighbours['word0']  =  word\n",
    "  neighbours['word+1'] = sentence[index + 1] if index < end - 1  else 'NONE'\n",
    "  neighbours['word+2'] = sentence[index + 2] if index < end - 2  else 'NONE'\n",
    "  return [neighbours , sense]\n",
    "\n",
    "def extract_feature_A(sentence):\n",
    "  index = get_index_of_regexp_match(r\"^.*_\\d$\", sentence)\n",
    "  return create_dict_around(sentence, index)\n",
    "\n",
    "items_with_features_A = [extract_feature_A(sent) for sent in sentences]\n",
    "print(len(items_with_features_A))\n",
    "print(items_with_features_A[151:154])"
   ]
  },
  {
   "cell_type": "markdown",
   "metadata": {
    "id": "D1E0i7CBooAZ"
   },
   "source": [
    "On souhaite maintenant entraîner un classifieur sur une partie des données, et le tester sur une autre.  Typiquement, on peut garder 80% des données pour l'entraînement et utiliser les 20% restants pour l'évaluation.  Veuillez faire cette division séparément pour chaque sens, pour que les deux ensembles contiennent les mêmes proportions de sens que l'ensemble de départ (\"stratification\"), et enregistrer les deux sous-ensembles de `items_with_features_A` sous les noms respectifs de `iwf_A_train` et `iwf_A_test`."
   ]
  },
  {
   "cell_type": "code",
   "execution_count": 33,
   "metadata": {
    "id": "bR0L3SQvooAa"
   },
   "outputs": [],
   "source": [
    "from random import shuffle\n",
    "import math"
   ]
  },
  {
   "cell_type": "code",
   "execution_count": 43,
   "metadata": {
    "colab": {
     "base_uri": "https://localhost:8080/"
    },
    "id": "y7hF-zzZooAa",
    "outputId": "aebc73de-bb79-40b5-c245-c708b4a38ae9"
   },
   "outputs": [
    {
     "name": "stdout",
     "output_type": "stream",
     "text": [
      "([1, 8, 4, 3, 10, 9, 0, 7], [6, 5, 2])\n",
      "0   0\n",
      "[] []\n"
     ]
    }
   ],
   "source": [
    "iwf_A_train = []\n",
    "iwf_A_test  = []\n",
    "# Veuillez répondre ici à la question.\n",
    "def separate_list(the_list, train_rate= 0.8):\n",
    "  index = math.floor(len(the_list) * train_rate)\n",
    "  shuffle(the_list)\n",
    "  return (the_list[:index], the_list[index:])\n",
    "\n",
    "print(separate_list([0,1,2,3,4,5,6,7,8,9,10]))\n",
    "\n",
    "print(len(iwf_A_train), ' ', len(iwf_A_test))\n",
    "print(iwf_A_test[:2], iwf_A_test[-2:])"
   ]
  },
  {
   "cell_type": "markdown",
   "metadata": {
    "id": "e0uluTn_ooAb"
   },
   "source": [
    "Veuillez créer une instance de `NaiveBayesClassifier`, l'entraîner sur `iwf_A_train` et la tester sur `iwf_A_train` (voir la documentation NLTK).  En expérimentant avec différentes largeurs de fenêtres, quel est le meilleur score global que vous obtenez (avec la fonction `accuracy`), et comment se compare-t-il avec les précédents ?  Quels sont les traits les plus informatifs (voir la doc NLTK), et pouvez-vous expliquer cet affichage ?"
   ]
  },
  {
   "cell_type": "code",
   "execution_count": null,
   "metadata": {
    "id": "7i3k_bgsooAb"
   },
   "outputs": [],
   "source": [
    "from nltk.classify import naivebayes \n",
    "# Veuillez répondre ici à la question.\n"
   ]
  },
  {
   "cell_type": "code",
   "execution_count": null,
   "metadata": {
    "id": "PaRmHNV8ooAb"
   },
   "outputs": [],
   "source": [
    "# Question supprimée\n"
   ]
  },
  {
   "cell_type": "markdown",
   "metadata": {
    "id": "d3i_5clqooAb"
   },
   "source": [
    "### 3.B. Présence de mots indicateurs\n",
    "\n",
    "Une deuxième façon d'encoder les traits lexicaux est de constituer un vocabulaire avec les mots qui apparaissent dans le voisinage de *interest* et de définir ces mots comme traits.  Par conséquent, pour chaque occurrence de *interest*, vous allez extraire la valeur de ces traits sous la forme :\n",
    "```\n",
    "[{('rate' : True), ('in' : False), ...}, 1]\n",
    "```\n",
    "où *'rate'*, *'in'* sont les mots du vocabulaire, True/False indiquent leur présence/absence autour de l'occurrence de *interest* qui est décrite, et le dernier nombre est le sens, entre 1 et 6.\n",
    "\n",
    "Pour commencer, en partant de `sentences` et en fixant la taille de la fenêtre, veuillez constituer la liste de tous les mots observés autour de tous les voisinages de toutes les occurrences de *interest*."
   ]
  },
  {
   "cell_type": "code",
   "execution_count": null,
   "metadata": {
    "id": "zt4iYpCEooAc"
   },
   "outputs": [],
   "source": [
    "word_list = []\n",
    "# Veuillez répondre ici à la question.\n",
    "\n",
    "print(len(word_list))\n",
    "print(word_list[:50])"
   ]
  },
  {
   "cell_type": "markdown",
   "metadata": {
    "id": "DyL062NuooAc"
   },
   "source": [
    "En utilisant un objet `nltk.FreqDist`, veuillez sélectioner les 500 mots les plus fréquents (vous pourrez aussi faire varier ce nombre), dans une liste appelée `vocabulary`.  À votre avis, est-ce une bonne idée d'enlever les *stopwords* de cette liste pour construire les traits ?"
   ]
  },
  {
   "cell_type": "code",
   "execution_count": null,
   "metadata": {
    "id": "jhDjay1eooAd"
   },
   "outputs": [],
   "source": [
    "# Veuillez répondre ici à la question.\n",
    "\n",
    "print(vocabulary[:50])"
   ]
  },
  {
   "cell_type": "markdown",
   "metadata": {
    "id": "aRc1PnMYooAd"
   },
   "source": [
    "Veuillez maintenant créer l'ensemble total de données formatées, en convertissant chaque phrase contenant une occurrence de *interest* à un dictionnaire de traits/valeurs (suivi du numéro du sens), comme exemplifié au début de cette section 3B.  Cet ensemble sera appelé `items_with_features_B`."
   ]
  },
  {
   "cell_type": "code",
   "execution_count": null,
   "metadata": {
    "id": "5YSQKHl0ooAe"
   },
   "outputs": [],
   "source": [
    "items_with_features_B = []\n",
    "# Veuillez répondre ici à la question.\n",
    "\n",
    "print(len(items_with_features_B))"
   ]
  },
  {
   "cell_type": "markdown",
   "metadata": {
    "id": "GpOWdmB1ooAe"
   },
   "source": [
    "Comme dans la section 3A, veuillez créer maintenant deux sous-ensembles de `items_with_features_B` appelés `iwf_B_train` (80% des items) et `iwf_B_test` (20% des items), avec une sélection aléatoire mais stratifiée."
   ]
  },
  {
   "cell_type": "code",
   "execution_count": null,
   "metadata": {
    "id": "w2D_u7KCooAe"
   },
   "outputs": [],
   "source": [
    "iwf_B_train = []\n",
    "iwf_B_test  = []\n",
    "# Veuillez répondre ici à la question.\n",
    "\n",
    "print(len(iwf_B_train), ' ', len(iwf_B_test))"
   ]
  },
  {
   "cell_type": "markdown",
   "metadata": {
    "id": "uum8yLTwooAf"
   },
   "source": [
    "Comme pour la section 3A, veuillez créer une instance de `NaiveBayesClassifier`, l'entraîner sur `iwf_B_train` et la tester sur `iwf_B_train`.  Veuillez obtenir le score de ce classifieur.  En expérimentant avec différentes largeurs de fenêtres et tailles du vocabulaire, quel est le meilleur score que vous obtenez, et comment se compare-t-il avec les précédents ?  Quels sont les traits les plus informatifs ?"
   ]
  },
  {
   "cell_type": "code",
   "execution_count": null,
   "metadata": {
    "id": "L4HrnTZpooAf"
   },
   "outputs": [],
   "source": [
    "from nltk.classify import naivebayes \n",
    "# Veuillez répondre ici à la question.\n"
   ]
  },
  {
   "cell_type": "code",
   "execution_count": null,
   "metadata": {
    "id": "fvy2LLROooAf"
   },
   "outputs": [],
   "source": [
    "# Veuillez recopier ici en conclusion les scores des quatre \n",
    "# expériences, pour pouvoir les comparer d'un coup d'oeil.\n"
   ]
  },
  {
   "cell_type": "markdown",
   "metadata": {
    "id": "lzZ7BjUxooAg"
   },
   "source": [
    "## Fin du laboratoire\n",
    "\n",
    "Merci de nettoyer votre feuille, exécuter une dernière fois toutes les instructions, sauvegarder le résultat, et soumettre le *notebook* sur Cyberlearn."
   ]
  }
 ],
 "metadata": {
  "colab": {
   "collapsed_sections": [],
   "name": "TAL_Labo5_3MethodesWSD_student.ipynb",
   "provenance": []
  },
  "kernelspec": {
   "display_name": "Python 3 (ipykernel)",
   "language": "python",
   "name": "python3"
  },
  "language_info": {
   "codemirror_mode": {
    "name": "ipython",
    "version": 3
   },
   "file_extension": ".py",
   "mimetype": "text/x-python",
   "name": "python",
   "nbconvert_exporter": "python",
   "pygments_lexer": "ipython3",
   "version": "3.9.7"
  }
 },
 "nbformat": 4,
 "nbformat_minor": 1
}
